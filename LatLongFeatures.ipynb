{
 "cells": [
  {
   "cell_type": "code",
   "execution_count": 1,
   "metadata": {},
   "outputs": [],
   "source": [
    "import pandas\n",
    "import ee  # Google Earth Engine API\n",
    "import folium\n",
    "import functools\n",
    "import numpy as np"
   ]
  },
  {
   "cell_type": "code",
   "execution_count": 2,
   "metadata": {},
   "outputs": [],
   "source": [
    "\n",
    "ee.Initialize()"
   ]
  },
  {
   "cell_type": "markdown",
   "metadata": {
    "heading_collapsed": true
   },
   "source": [
    "## Load data from the CSV\n"
   ]
  },
  {
   "cell_type": "code",
   "execution_count": 3,
   "metadata": {
    "hidden": true
   },
   "outputs": [
    {
     "name": "stdout",
     "output_type": "stream",
     "text": [
      "Data shape: (278, 3)\n",
      "  MatchName   Longitude   Latitude\n",
      "0   K0024A2 -118.567312  34.083974\n",
      "1   K0024B2 -118.570642  34.084767\n",
      "2   K0024C1 -118.551882  34.055978\n",
      "3   K0026A1 -117.229718  32.853963\n",
      "4   K0026B1 -117.232750  32.849619\n"
     ]
    }
   ],
   "source": [
    "csv_path = 'Final_metadata_05312019.csv'\n",
    "\n",
    "# Read the relevant columns from the CSV into a dataframe\n",
    "# We will use the coordinates to get more data about each sample\n",
    "samples = pandas.read_csv(csv_path, usecols=['MatchName', 'Longitude', 'Latitude'])\n",
    "\n",
    "# Display the shape of the data we read in and its first few rows\n",
    "print(\"Data shape:\", samples.shape)\n",
    "print(samples.head())\n",
    "\n",
    "# Define a Feature for each 100-meter-radius sample area\n",
    "sample_areas = []\n",
    "for sample in samples.itertuples():\n",
    "    # Store the important data as properties of the feature\n",
    "    sample_areas.append(\n",
    "        ee.Feature(ee.Geometry.Point(sample.Longitude, sample.Latitude).buffer(100))\n",
    "        .set('MatchName', sample.MatchName)\n",
    "        .set('Longitude', sample.Longitude)\n",
    "        .set('Latitude', sample.Latitude))\n",
    "\n",
    "# Define a FeatureCollection containing all the sample areas\n",
    "sample_areas = ee.FeatureCollection(sample_areas)"
   ]
  },
  {
   "cell_type": "markdown",
   "metadata": {
    "hidden": true
   },
   "source": [
    "First define some utility functions.\n",
    "\n",
    "Earth Engine coordinates are given in the order (longitude, latitude), while Folium uses them in the order (latitude, longitude), so swapping the order will sometimes be necessary."
   ]
  },
  {
   "cell_type": "code",
   "execution_count": 4,
   "metadata": {
    "hidden": true
   },
   "outputs": [],
   "source": [
    "\n",
    "def to_number(key: str):\n",
    "    \"\"\"\n",
    "    Return a lambda function that converts a feature's property value from a string to a number.\n",
    "    To be used with map().\n",
    "    \n",
    "    param key: the name of the feature property to convert\n",
    "    \"\"\"\n",
    "    return lambda feature: feature.set({key: ee.Number.parse(feature.get(key))})"
   ]
  },
  {
   "cell_type": "markdown",
   "metadata": {
    "heading_collapsed": true
   },
   "source": [
    "## Define dataset properties"
   ]
  },
  {
   "cell_type": "code",
   "execution_count": 5,
   "metadata": {
    "hidden": true
   },
   "outputs": [],
   "source": [
    "class Dataset:\n",
    "    def __init__(self, path: str, property: str, name: str):\n",
    "        \"\"\"\n",
    "        Represent a Google Earth Engine dataset and the information we need to use it.\n",
    "        \n",
    "        path: The identifier of the dataset for EE e.g. 'EPA/Ecoregions/2013/L3'\n",
    "        property: Many datasets have multiple properties (for vector datasets) or\n",
    "            bands (for raster datasets). This is the name of the relevant one.\n",
    "        name: The column name to display for the data gathered from this dataset.\n",
    "        \"\"\"\n",
    "        self.data = ee.FeatureCollection(path).map(to_number(key='us_l3code'))\n",
    "        self.property = property\n",
    "        self.name = name\n"
   ]
  },
  {
   "cell_type": "markdown",
   "metadata": {
    "heading_collapsed": true
   },
   "source": [
    "## Get data about a sample location\n"
   ]
  },
  {
   "cell_type": "code",
   "execution_count": 6,
   "metadata": {
    "hidden": true
   },
   "outputs": [],
   "source": [
    "# Note: This function is an argument to map(). Arguments to map() cannot print anything\n",
    "# or call getInfo(). Doing so results in an EEException: ValueNode empty\n",
    "# source: https://gis.stackexchange.com/questions/345598/mapping-simp>le-function-to-print-date-and-time-stamp-on-google-earth-engine-pyth\n",
    "def get_sample_area_data(sample_area: ee.Feature, dataset: Dataset) -> str:\n",
    "    \"\"\"\n",
    "    Return the value from the dataset to assign to the sample area.\n",
    "    \"\"\"\n",
    "    \n",
    "    # Get a FeatureCollection storing the overlaps between the sample area and the dataset\n",
    "    overlaps = dataset.data.filterBounds(sample_area.geometry()).map(\n",
    "        lambda feature: feature.intersection(sample_area.geometry())\n",
    "    )\n",
    "    \n",
    "    val = ee.Algorithms.If(\n",
    "        # If there is exactly 1 overlapping dataset feature, return its value\n",
    "        overlaps.size().eq(1),\n",
    "        sample_area.set(dataset.name, overlaps.first().get(dataset.property)),\n",
    "    \n",
    "        ee.Algorithms.If(\n",
    "            # If there are 0 overlapping dataset features, return the value of the closest one\n",
    "            overlaps.size().eq(0),\n",
    "            sample_area.set(dataset.name, \n",
    "                            get_nearest_feature(sample_area, dataset).get(dataset.property)),\n",
    "            \n",
    "            # Otherwise, there must be >1 features overlapping the sample area\n",
    "            # Return the value of the one with the largest overlap\n",
    "            sample_area.set(dataset.name, \n",
    "                            get_predominant_feature(overlaps).get(dataset.property))\n",
    "        )\n",
    "    )\n",
    "    return val\n",
    "\n",
    "def get_nearest_feature(sample_area: ee.Feature, dataset: Dataset) -> str:\n",
    "    \"\"\"\n",
    "    To be used when the sample area doesn't overlap the dataset at all.\n",
    "    Get the dataset feature that is nearest to the sample area, and\n",
    "    return the value of its dataset.property.\n",
    "    \"\"\"\n",
    "    \n",
    "    # Define a filter to get all dataset features within 10000 meters of the sample area\n",
    "    spatialFilter = ee.Filter.withinDistance(\n",
    "        distance=10000,\n",
    "        leftField='.geo',\n",
    "        rightField='.geo',\n",
    "        maxError=10\n",
    "    )\n",
    "    # Define a join that will return only the 'best' (nearest) match\n",
    "    saveBestJoin = ee.Join.saveBest(\n",
    "      matchKey='closestFeature',\n",
    "      measureKey='distance'\n",
    "    )\n",
    "    # Apply the join, using the distance filter to define match quality\n",
    "    # Get the only feature in the resulting FeatureCollection\n",
    "    result = ee.Feature(saveBestJoin.apply(\n",
    "        ee.FeatureCollection(sample_area),\n",
    "        dataset.data,\n",
    "        spatialFilter\n",
    "    ).first())\n",
    "    \n",
    "    # Return the closest dataset feature\n",
    "    return ee.Feature(result.get('closestFeature'))\n",
    "\n",
    "    \n",
    "def get_predominant_feature(overlaps: ee.FeatureCollection) -> str:\n",
    "    \"\"\"\n",
    "    To be used when the sample area overlaps more than one dataset feature.\n",
    "    Return the value of 'property' for the largest overlap.\n",
    "    \"\"\"\n",
    "    # Add 'area' as a property to each feature. This is the area in square meters \n",
    "    # of the intersection of the ecoregion feature and the sample area.\n",
    "    overlaps = overlaps.map(\n",
    "        lambda feature: feature.set({'area': feature.geometry().area()}))\n",
    "    \n",
    "    # Find the maximum area among all the overlaps\n",
    "    max_area = overlaps.aggregate_max('area')\n",
    "\n",
    "    # Return the overlap with the largest area\n",
    "    return ee.Feature(overlaps.filter(ee.Filter.gte('area', max_area)).first())\n",
    "\n",
    "\n",
    "    "
   ]
  },
  {
   "cell_type": "markdown",
   "metadata": {},
   "source": [
    "## Mapping\n",
    "Next we define a mapping class and some methods to help visualize the data. This will help with understanding what we're doing, and also make it easy to visually verify that the results make sense. The JavaScript version of the Earth Engine API provides a Map class that makes it easy to do this, but the Python API doesn't have that feature. I'm implementing it using Folium, a Python library for creating Leaflet Javascript maps, as recommended here: https://developers.google.com/earth-engine/python_install-colab.html#interactive_map"
   ]
  },
  {
   "cell_type": "markdown",
   "metadata": {},
   "source": [
    "These two methods are going to be added as custom folium map methods. This will make it easy to display vector and raster Earth Engine objects to a map."
   ]
  },
  {
   "cell_type": "code",
   "execution_count": 7,
   "metadata": {},
   "outputs": [],
   "source": [
    "def add_raster_layer(self, ee_image_object, vis_params, name):\n",
    "    \"\"\"Display an EE image (raster) on a folium map\"\"\"\n",
    "    map_id_dict = ee.Image(ee_image_object).getMapId(vis_params)\n",
    "    folium.raster_layers.TileLayer(\n",
    "        tiles = map_id_dict['tile_fetcher'].url_format,\n",
    "        attr = \"Map Data © Google Earth Engine\",\n",
    "        name = name,\n",
    "        overlay = True,\n",
    "        control = True\n",
    "    ).add_to(self)\n",
    "\n",
    "def add_vector_layer(self, coords, name):\n",
    "    \"\"\"Display an EE geometry (vector) on a folium map\"\"\"\n",
    "    # Reverse the order of the coordinates from (lng, lat) to (lat, lng)\n",
    "    coords = np.array([np.flip(i) for i in coords])\n",
    "    \n",
    "    # Add the coordinates as a polygon layer in the map\n",
    "    folium.vector_layers.Polygon(\n",
    "        locations=coords,\n",
    "        name=name,\n",
    "        color='red',\n",
    "        overlay=True,\n",
    "        control=True\n",
    "    ).add_to(self)"
   ]
  },
  {
   "cell_type": "markdown",
   "metadata": {},
   "source": [
    "Next we define the Map class, which makes use of the above methods to draw multiple datasets onto a folium map and display it."
   ]
  },
  {
   "cell_type": "code",
   "execution_count": 8,
   "metadata": {},
   "outputs": [],
   "source": [
    "class Map:\n",
    "    \n",
    "    def __init__(self):\n",
    "        \"\"\"Initialize a custom folium map\"\"\"\n",
    "        # Add EE drawing methods to folium.\n",
    "        folium.Map.add_raster_layer = add_raster_layer\n",
    "        folium.Map.add_vector_layer = add_vector_layer\n",
    "        self.map = folium.Map(location=[39, -98], zoom_start=3, height=500)\n",
    "\n",
    "    def add(self, dataset, name):\n",
    "        \"\"\"Add layers to an interactive map using folium\"\"\"\n",
    "        # Set visualization parameters.\n",
    "        vis_params = {\n",
    "          'min': 0,\n",
    "          'max': 120,\n",
    "          'palette': ['006633', 'E5FFCC', '662A00', 'D8D8D8', 'F5F5F5']}\n",
    "\n",
    "        # Add the dataset as a layer to the map\n",
    "        # If the data is provided as an array, we want to display it as a polygon\n",
    "        if isinstance(dataset, np.ndarray):\n",
    "            self.map.add_vector_layer(dataset, 'sample area')\n",
    "            return\n",
    "\n",
    "        # If the dataset is provided as a Collection, we want to display it as imagery\n",
    "        if isinstance(dataset, ee.FeatureCollection):\n",
    "            dataset = dataset.reduceToImage(properties=['us_l3code'], reducer=ee.Reducer.first())\n",
    "\n",
    "        self.map.add_raster_layer(dataset.updateMask(dataset.gt(0)), vis_params, name)\n",
    "        \n",
    "    def feature_collection_to_coords(fc: ee.FeatureCollection) -> np.array:\n",
    "        \"\"\"\n",
    "        Return a list of coordinate lists representing the geometries \n",
    "        of the features in the FeatureCollection.\n",
    "        \"\"\"\n",
    "        coords = np.array(fc.iterate(\n",
    "            lambda item, l: ee.List(l).add(item.geometry().coordinates()), \n",
    "            ee.List([])).getInfo())\n",
    "        print(coords.shape)\n",
    "        return coords\n",
    "\n",
    "    def display(self):\n",
    "            self.map.add_child(folium.LayerControl())  # Add a layer control panel to the map\n",
    "            display(self.map)   # Display the map\n"
   ]
  },
  {
   "cell_type": "markdown",
   "metadata": {},
   "source": [
    "## Get data for every sample area from every dataset"
   ]
  },
  {
   "cell_type": "code",
   "execution_count": 9,
   "metadata": {
    "scrolled": true
   },
   "outputs": [
    {
     "name": "stdout",
     "output_type": "stream",
     "text": [
      "(278, 1, 24, 2)\n"
     ]
    },
    {
     "ename": "NameError",
     "evalue": "name 'map2' is not defined",
     "output_type": "error",
     "traceback": [
      "\u001b[0;31m---------------------------------------------------------------------------\u001b[0m",
      "\u001b[0;31mNameError\u001b[0m                                 Traceback (most recent call last)",
      "\u001b[0;32m<ipython-input-9-35acde221a2f>\u001b[0m in \u001b[0;36m<module>\u001b[0;34m\u001b[0m\n\u001b[1;32m      6\u001b[0m \u001b[0mmap\u001b[0m \u001b[0;34m=\u001b[0m \u001b[0mMap\u001b[0m\u001b[0;34m(\u001b[0m\u001b[0;34m)\u001b[0m\u001b[0;34m\u001b[0m\u001b[0;34m\u001b[0m\u001b[0m\n\u001b[1;32m      7\u001b[0m \u001b[0;32mfor\u001b[0m \u001b[0mpolygon\u001b[0m \u001b[0;32min\u001b[0m \u001b[0mMap\u001b[0m\u001b[0;34m.\u001b[0m\u001b[0mfeature_collection_to_coords\u001b[0m\u001b[0;34m(\u001b[0m\u001b[0msample_areas\u001b[0m\u001b[0;34m)\u001b[0m\u001b[0;34m:\u001b[0m\u001b[0;34m\u001b[0m\u001b[0;34m\u001b[0m\u001b[0m\n\u001b[0;32m----> 8\u001b[0;31m     \u001b[0mmap2\u001b[0m\u001b[0;34m.\u001b[0m\u001b[0madd\u001b[0m\u001b[0;34m(\u001b[0m\u001b[0mpolygon\u001b[0m\u001b[0;34m,\u001b[0m \u001b[0mname\u001b[0m\u001b[0;34m=\u001b[0m\u001b[0;34m'K'\u001b[0m\u001b[0;34m)\u001b[0m\u001b[0;34m\u001b[0m\u001b[0;34m\u001b[0m\u001b[0m\n\u001b[0m\u001b[1;32m      9\u001b[0m \u001b[0;34m\u001b[0m\u001b[0m\n\u001b[1;32m     10\u001b[0m \u001b[0;31m# For each dataset,\u001b[0m\u001b[0;34m\u001b[0m\u001b[0;34m\u001b[0m\u001b[0;34m\u001b[0m\u001b[0m\n",
      "\u001b[0;31mNameError\u001b[0m: name 'map2' is not defined"
     ]
    }
   ],
   "source": [
    "\n",
    "# Define the list of datasets from which to retrieve data\n",
    "datasets = [Dataset('EPA/Ecoregions/2013/L3', 'us_l3name', 'ecoregion')]\n",
    "\n",
    "# Define a map that will display all the data together,\n",
    "# and add each sample area geometry to it\n",
    "map = Map()\n",
    "for polygon in Map.feature_collection_to_coords(sample_areas):\n",
    "    map.add(polygon, name='K')\n",
    "\n",
    "# For each dataset,\n",
    "for dataset in datasets:\n",
    "    # Add a property to each sample area storing the value calculated from the dataset\n",
    "    sample_areas = sample_areas.map(lambda feature: get_sample_area_data(feature, dataset))\n",
    "    \n",
    "    # Add the dataset as a layer to the map\n",
    "    map.add(dataset.data, dataset.name)\n",
    "    \n",
    "map.display()  # Display the map\n",
    "\n",
    "# Export the sample area data to your Google Drive as a CSV\n",
    "# task = ee.batch.Export.table.toDrive(collection=r, description='eedata.csv')\n",
    "# task.start()\n"
   ]
  },
  {
   "cell_type": "code",
   "execution_count": null,
   "metadata": {},
   "outputs": [],
   "source": []
  },
  {
   "cell_type": "code",
   "execution_count": null,
   "metadata": {},
   "outputs": [],
   "source": []
  }
 ],
 "metadata": {
  "kernelspec": {
   "display_name": "Python 3",
   "language": "python",
   "name": "python3"
  },
  "language_info": {
   "codemirror_mode": {
    "name": "ipython",
    "version": 3
   },
   "file_extension": ".py",
   "mimetype": "text/x-python",
   "name": "python",
   "nbconvert_exporter": "python",
   "pygments_lexer": "ipython3",
   "version": "3.8.1"
  }
 },
 "nbformat": 4,
 "nbformat_minor": 2
}
