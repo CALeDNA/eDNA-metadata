{
 "cells": [
  {
   "cell_type": "code",
   "execution_count": 1,
   "metadata": {},
   "outputs": [],
   "source": [
    "import pandas\n",
    "import ee  # Google Earth Engine API\n",
    "import folium\n",
    "import numpy as np"
   ]
  },
  {
   "cell_type": "code",
   "execution_count": 2,
   "metadata": {},
   "outputs": [],
   "source": [
    "ee.Initialize()"
   ]
  },
  {
   "cell_type": "markdown",
   "metadata": {},
   "source": [
    "First define some utility functions."
   ]
  },
  {
   "cell_type": "code",
   "execution_count": 3,
   "metadata": {},
   "outputs": [],
   "source": [
    "def swap_lat_lng(coords: list):\n",
    "    \"\"\"Reverse the order of elements in each coordinate pair in a list\"\"\"\n",
    "    coords = np.array([[c[1], c[0]] for c in coords])\n",
    "    return coords\n",
    "    \n",
    "def to_number(key: str):\n",
    "    \"\"\"\n",
    "    Return a lambda function that converts a feature's property value from a string to a number.\n",
    "    To be used with map().\n",
    "    \n",
    "    param key: the name of the feature property to convert\n",
    "    \"\"\"\n",
    "    return lambda feature: feature.set({key: ee.Number.parse(feature.get(key))})"
   ]
  },
  {
   "cell_type": "markdown",
   "metadata": {},
   "source": [
    "## Mapping\n",
    "Next we define a mapping class and some methods to help visualize the data. This will help with understanding what we're doing, and also make it easy to visually verify that the results make sense. The JavaScript version of the Earth Engine API provides a Map class that makes it easy to do this, but the Python API doesn't have that feature. I'm implementing it using folium as recommended here: https://developers.google.com/earth-engine/python_install-colab.html#interactive_map"
   ]
  },
  {
   "cell_type": "markdown",
   "metadata": {},
   "source": [
    "These two methods are going to be added as custom folium map methods. This will make it easy to display vector and raster Earth Engine objects to a map."
   ]
  },
  {
   "cell_type": "code",
   "execution_count": 4,
   "metadata": {},
   "outputs": [],
   "source": [
    "def add_raster_layer(self, ee_image_object, vis_params, name):\n",
    "    \"\"\"Display an EE image (raster) on a folium map\"\"\"\n",
    "    map_id_dict = ee.Image(ee_image_object).getMapId(vis_params)\n",
    "    folium.raster_layers.TileLayer(\n",
    "        tiles = map_id_dict['tile_fetcher'].url_format,\n",
    "        attr = \"Map Data © Google Earth Engine\",\n",
    "        name = name,\n",
    "        overlay = True,\n",
    "        control = True\n",
    "    ).add_to(self)\n",
    "\n",
    "def add_vector_layer(self, geometry, name):\n",
    "    \"\"\"Display an EE geometry (vector) on a folium map\"\"\"\n",
    "    coords = swap_lat_lng(np.array(geometry.coordinates().getInfo())[0])\n",
    "    folium.vector_layers.Polygon(\n",
    "        locations=coords,\n",
    "        name=name,\n",
    "        color='red',\n",
    "        overlay=True,\n",
    "        control=True\n",
    "    ).add_to(self)"
   ]
  },
  {
   "cell_type": "markdown",
   "metadata": {},
   "source": [
    "Next we define the Map class, which makes use of the above methods to draw multiple datasets onto a folium map and display it."
   ]
  },
  {
   "cell_type": "code",
   "execution_count": 5,
   "metadata": {},
   "outputs": [],
   "source": [
    "class Map:\n",
    "    \n",
    "    def __init__(self):\n",
    "        \"\"\"Initialize a custom folium map\"\"\"\n",
    "        # Add EE drawing methods to folium.\n",
    "        folium.Map.add_raster_layer = add_raster_layer\n",
    "        folium.Map.add_vector_layer = add_vector_layer\n",
    "        self.map = folium.Map(location=[39, -98], zoom_start=3, height=500)\n",
    "\n",
    "    def add(self, datasets: list):\n",
    "        \"\"\"Add layers to an interactive map using folium\"\"\"\n",
    "        \n",
    "        # Add each dataset as a layer to the map\n",
    "        for dataset in datasets:\n",
    "            if isinstance(dataset, ee.Geometry):\n",
    "                self.map.add_vector_layer(dataset, 'sample area')\n",
    "                continue\n",
    "            if isinstance(dataset, ee.FeatureCollection):\n",
    "                dataset = dataset.reduceToImage(properties=['us_l3code'], reducer=ee.Reducer.first())\n",
    "            \n",
    "            # Set visualization parameters.\n",
    "            vis_params = {\n",
    "              'min': 0,\n",
    "              'max': 120,\n",
    "              'palette': ['006633', 'E5FFCC', '662A00', 'D8D8D8', 'F5F5F5']}\n",
    "            \n",
    "            self.map.add_raster_layer(dataset.updateMask(dataset.gt(0)), vis_params, 'ecoregions')\n",
    "            \n",
    "    def display(self):\n",
    "            self.map.add_child(folium.LayerControl())  # Add a layer control panel to the map\n",
    "            display(self.map)   # Display the map\n"
   ]
  },
  {
   "cell_type": "markdown",
   "metadata": {},
   "source": [
    "## Getting ecoregion data for a location\n",
    "Here we find the name of the level III ecoregion in which the sample area is located. If the sample area contains multiple ecoregions, we choose the one that covers the largest amount of the sample area."
   ]
  },
  {
   "cell_type": "code",
   "execution_count": 6,
   "metadata": {},
   "outputs": [
    {
     "name": "stdout",
     "output_type": "stream",
     "text": [
      "Number of ecoregions in the sample area: 1\n",
      "Predominant ecoregion in the sample area: Southern California/Northern Baja Coast\n"
     ]
    },
    {
     "data": {
      "text/html": [
       "<div style=\"width:100%;\"><div style=\"position:relative;width:100%;height:0;padding-bottom:60%;\"><iframe src=\"data:text/html;charset=utf-8;base64,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\" style=\"position:absolute;width:100%;height:100%;left:0;top:0;border:none !important;\" allowfullscreen webkitallowfullscreen mozallowfullscreen></iframe></div></div>"
      ],
      "text/plain": [
       "<folium.folium.Map at 0x11739b6d0>"
      ]
     },
     "metadata": {},
     "output_type": "display_data"
    }
   ],
   "source": [
    "\n",
    "# Get the dataset from Earth Engine \n",
    "# and convert the level III ecoregion codes from strings to numbers\n",
    "dataset = ee.FeatureCollection('EPA/Ecoregions/2013/L3')\n",
    "dataset = dataset.map(to_number(key='us_l3code'))\n",
    "\n",
    "# Example coordinates\n",
    "lat = 34.083974\n",
    "lng = -118.567312\n",
    "\n",
    "# Define the sample area to be a ring around the sample location with a 100 meter radius\n",
    "sample_area = ee.Geometry.Point(lng, lat).buffer(100)\n",
    "\n",
    "# Filter the dataset to just the intersections of features with the sample area\n",
    "# Usually there will be just one ecoregion feature covering the entire sample area,\n",
    "# but it's possible that it could intersect multiple.\n",
    "# In that case we will choose the one that covers the most of the sample area.\n",
    "overlaps = dataset.filterBounds(sample_area).map(lambda feature: feature.intersection(sample_area))\n",
    "\n",
    "# Add 'area' as a property to each feature\n",
    "# This is the area in m^2 of the intersection of the ecoregion feature and the sample area\n",
    "overlaps = overlaps.map(\n",
    "    lambda feature: feature.set({'area': feature.geometry().area()}))\n",
    "print(\"Number of ecoregions in the sample area:\", overlaps.size().getInfo())\n",
    "\n",
    "max_area = overlaps.aggregate_max('area')\n",
    "\n",
    "# Get just the ecoregion with the largest 'area' property\n",
    "predominant_ecoregion = overlaps.filter(\n",
    "    ee.Filter.gte('area', max_area)).aggregate_array('us_l3name').getInfo()[0]\n",
    "print(\"Predominant ecoregion in the sample area:\", predominant_ecoregion)\n",
    "\n",
    "# Display the map\n",
    "map = Map()\n",
    "map.add([dataset, overlaps, sample_area])\n",
    "map.display()\n",
    "\n",
    "\n",
    "\n",
    "\n",
    "\n",
    "\n"
   ]
  },
  {
   "cell_type": "code",
   "execution_count": null,
   "metadata": {},
   "outputs": [],
   "source": []
  },
  {
   "cell_type": "code",
   "execution_count": null,
   "metadata": {},
   "outputs": [],
   "source": []
  },
  {
   "cell_type": "code",
   "execution_count": null,
   "metadata": {},
   "outputs": [],
   "source": []
  }
 ],
 "metadata": {
  "kernelspec": {
   "display_name": "Python 3",
   "language": "python",
   "name": "python3"
  },
  "language_info": {
   "codemirror_mode": {
    "name": "ipython",
    "version": 3
   },
   "file_extension": ".py",
   "mimetype": "text/x-python",
   "name": "python",
   "nbconvert_exporter": "python",
   "pygments_lexer": "ipython3",
   "version": "3.8.1"
  }
 },
 "nbformat": 4,
 "nbformat_minor": 2
}
